{
 "cells": [
  {
   "cell_type": "markdown",
   "id": "9defd0bd",
   "metadata": {},
   "source": [
    "# Generalised Monte Carlo Pi Approximation In N Dimensions\n"
   ]
  },
  {
   "cell_type": "markdown",
   "id": "6a3f6a2c",
   "metadata": {},
   "source": [
    "## Introduction"
   ]
  },
  {
   "cell_type": "markdown",
   "id": "21eaecb3",
   "metadata": {},
   "source": [
    "This experiment aims to evaluate the accuracy of pi approcimations using Monte Carlo simulation as the number of dimensions increases. \n",
    "The method is based on the two-dimensional approach which starts from a quarter of a circle of radius one and centre at the origin inscribed within a square with edges of size one. By randomnly generating points in the circle and counting how many fall within the quarter of the circle, we can approximate pi as: \n",
    "$\\pi = 4\\frac{p_{inside}}{n}$.\n",
    "To extend this to a larger dimension, let us consider a hyperspehere of dimension N and a hypercube of dimension N in an N-dimensional Euclidean space. We can no longer look at a quarter of the hypersphere, but at a fragment of its hypervolume, particulary:\n",
    "\n",
    "$\\large k=2^{-N}V_N$, where $\\large V_N = \\frac{\\pi^{N/2}}{\\Gamma(\\frac{N}{2}+1)}$\n",
    "\n",
    "We then have that the number of points within the hypersphere over the total number of points is equal to k over 1 (the voume of the hypercube):\n",
    "\n",
    "$\\large 2^{-N}\\frac{\\pi^{N/2}}{\\Gamma(\\frac{N}{2}+1)} = \\frac{p_{inside}}{n}$"
   ]
  },
  {
   "cell_type": "markdown",
   "id": "30fc648e",
   "metadata": {},
   "source": [
    "We obtain:\n",
    "\n",
    "$\\large\\pi = \\bigg[{\\frac{p_{inside}\\Gamma(\\frac{N}{2}+1)2^N}{n}}\\bigg]^{\\frac{2}{N}}$"
   ]
  },
  {
   "cell_type": "markdown",
   "id": "65cdd5b4",
   "metadata": {},
   "source": [
    "## Simulation"
   ]
  },
  {
   "cell_type": "code",
   "execution_count": 44,
   "id": "5a5ef821",
   "metadata": {},
   "outputs": [
    {
     "name": "stdout",
     "output_type": "stream",
     "text": [
      "2-dimensional approximation: 3.13304\n",
      "3-dimensional approximation: 3.150351449125359\n",
      "4-dimensional approximation: 3.1231266384826597\n",
      "5-dimensional approximation: 3.155955876349877\n",
      "6-dimensional approximation: 3.12430700366664\n",
      "7-dimensional approximation: 3.164431261698918\n",
      "8-dimensional approximation: 3.1188391844218626\n",
      "9-dimensional approximation: 3.1531777296625734\n",
      "10-dimensional approximation: 3.146523537556046\n",
      "11-dimensional approximation: 3.0697087249196837\n",
      "12-dimensional approximation: 3.2771044908549087\n",
      "13-dimensional approximation: 3.041170787301874\n",
      "14-dimensional approximation: 3.1820096713151047\n",
      "15-dimensional approximation: 0.0\n",
      "16-dimensional approximation: 3.5706728122213636\n",
      "17-dimensional approximation: 0.0\n",
      "18-dimensional approximation: 0.0\n",
      "19-dimensional approximation: 0.0\n",
      "20-dimensional approximation: 0.0\n"
     ]
    }
   ],
   "source": [
    "import numpy as np\n",
    "import matplotlib.pyplot as plt\n",
    "import scipy.special as sp\n",
    "\n",
    "np.random.seed(0)\n",
    "\n",
    "N = 20 #maximum number of dimensions\n",
    "n = 100000 #maximum number of generated points\n",
    "\n",
    "def mc_pi_simulation(N, n):\n",
    "    #N is the dimension of the space\n",
    "    #n is the number of points to be randomnly generated\n",
    "    points = np.array([np.random.random(N) for j in range(n)])\n",
    "    p_inside = np.sum(np.sum(points ** 2, axis = 1) <= 1)\n",
    "    return 4 * ((p_inside ** (2 / N)) * (sp.gamma(N/2 + 1)** (2 / N))) / (n ** (2 / N))\n",
    "    \n",
    "simulated_values = np.array([mc_pi_simulation(i, n) for i in range(2, N + 1)]) \n",
    "for i in range(N-1):\n",
    "    print(f\"{i+2}-dimensional approximation: {simulated_values[i]}\")\n"
   ]
  },
  {
   "cell_type": "code",
   "execution_count": 38,
   "id": "7a9c019d",
   "metadata": {},
   "outputs": [
    {
     "data": {
      "text/plain": [
       "<matplotlib.legend.Legend at 0x7fbd6974e190>"
      ]
     },
     "execution_count": 38,
     "metadata": {},
     "output_type": "execute_result"
    },
    {
     "data": {
      "image/png": "[encoded data removed]",
      "text/plain": [
       "<Figure size 432x288 with 1 Axes>"
      ]
     },
     "metadata": {
      "needs_background": "light"
     },
     "output_type": "display_data"
    }
   ],
   "source": [
    "fig = plt.figure()\n",
    "ax = fig.add_subplot()\n",
    "plt.plot(np.arange(2, N+1), simulated_values, label = 'Approximation of pi')\n",
    "plt.axhline(np.pi, xmin = 0, color = 'red', label = 'Actual value of pi')\n",
    "plt.xlabel('dimension')\n",
    "plt.ylabel('approximation')\n",
    "plt.legend()"
   ]
  },
  {
   "cell_type": "markdown",
   "id": "1d4228b8",
   "metadata": {},
   "source": [
    "## Statistics"
   ]
  },
  {
   "cell_type": "code",
   "execution_count": 43,
   "id": "154cf54f",
   "metadata": {},
   "outputs": [
    {
     "name": "stdout",
     "output_type": "stream",
     "text": [
      "Sample mean: 3.141083631218215\n",
      "Sample standard deviation: 0.015604386875296541\n"
     ]
    }
   ],
   "source": [
    "mean = np.mean(simulated_values)\n",
    "sd = np.std(simulated_values)\n",
    "print(f\"Sample mean: {mean}\")\n",
    "print(f\"Sample standard deviation: {sd}\")"
   ]
  },
  {
   "cell_type": "markdown",
   "id": "9b6e1eb2",
   "metadata": {},
   "source": [
    "## Conclusion"
   ]
  },
  {
   "cell_type": "markdown",
   "id": "c2fbf2b8",
   "metadata": {},
   "source": [
    "Based on our results, we observe that for a reasonable dimension, the approximations do not vary significantly. In fact, we computed a standard deviation of around 0.01. It seems that increasing the number of dimensions does not increase accuracy and, worsely, it seems to make our approach unreliable because of the 'curse of dimensionality'. Given the considerably smaller volume of the section of hypersphere relative to the volume of the hypercube, the probability of generating a point within the hypershpere is virtually 0. Therefore, the standard 2-dimenstional approach appears to be the most effective version of this algorithm."
   ]
  },
  {
   "cell_type": "code",
   "execution_count": null,
   "id": "f336fbe4",
   "metadata": {},
   "outputs": [],
   "source": []
  }
 ],
 "metadata": {
  "kernelspec": {
   "display_name": "Python 3 (ipykernel)",
   "language": "python",
   "name": "python3"
  },
  "language_info": {
   "codemirror_mode": {
    "name": "ipython",
    "version": 3
   },
   "file_extension": ".py",
   "mimetype": "text/x-python",
   "name": "python",
   "nbconvert_exporter": "python",
   "pygments_lexer": "ipython3",
   "version": "3.9.7"
  }
 },
 "nbformat": 4,
 "nbformat_minor": 5
}
